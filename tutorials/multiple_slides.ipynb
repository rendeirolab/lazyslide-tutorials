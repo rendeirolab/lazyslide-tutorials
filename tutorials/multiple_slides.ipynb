{
 "cells": [
  {
   "cell_type": "markdown",
   "id": "d0079717-04b5-4435-90aa-445c92441e6a",
   "metadata": {},
   "source": [
    "# Integration with slide-level labels\n",
    "\n",
    "In this tutorial we will demonstrate how to integrate whole slide images (WSIs) with slide-level labels and derive quantitative scores for each slide via top-K scoring.\n",
    "\n",
    "We will also demonstrate how to run tasks in a distributed fashion using dask.\n",
    "\n",
    "For this, we will be using a pre-processed dataset of artery tissue from GTEx, whihc contains healthy and calcified samples."
   ]
  },
  {
   "cell_type": "code",
   "execution_count": 1,
   "id": "6293d20c-f84c-48e1-9a04-f02ec3fcbb8c",
   "metadata": {
    "editable": true,
    "slideshow": {
     "slide_type": ""
    },
    "tags": []
   },
   "outputs": [
    {
     "data": {
      "text/html": [
       "<div>\n",
       "<style scoped>\n",
       "    .dataframe tbody tr th:only-of-type {\n",
       "        vertical-align: middle;\n",
       "    }\n",
       "\n",
       "    .dataframe tbody tr th {\n",
       "        vertical-align: top;\n",
       "    }\n",
       "\n",
       "    .dataframe thead th {\n",
       "        text-align: right;\n",
       "    }\n",
       "</style>\n",
       "<table border=\"1\" class=\"dataframe\">\n",
       "  <thead>\n",
       "    <tr style=\"text-align: right;\">\n",
       "      <th></th>\n",
       "      <th>Tissue Sample Id</th>\n",
       "      <th>Sex</th>\n",
       "      <th>Age Bracket</th>\n",
       "      <th>Pathology Categories</th>\n",
       "    </tr>\n",
       "  </thead>\n",
       "  <tbody>\n",
       "    <tr>\n",
       "      <th>0</th>\n",
       "      <td>GTEX-111YS-2226</td>\n",
       "      <td>male</td>\n",
       "      <td>60-69</td>\n",
       "      <td>calcification</td>\n",
       "    </tr>\n",
       "    <tr>\n",
       "      <th>1</th>\n",
       "      <td>GTEX-11GSP-2926</td>\n",
       "      <td>female</td>\n",
       "      <td>60-69</td>\n",
       "      <td>calcification</td>\n",
       "    </tr>\n",
       "    <tr>\n",
       "      <th>2</th>\n",
       "      <td>GTEX-11LCK-1426</td>\n",
       "      <td>male</td>\n",
       "      <td>30-39</td>\n",
       "      <td>clean_specimens</td>\n",
       "    </tr>\n",
       "    <tr>\n",
       "      <th>3</th>\n",
       "      <td>GTEX-11ONC-2726</td>\n",
       "      <td>male</td>\n",
       "      <td>60-69</td>\n",
       "      <td>calcification</td>\n",
       "    </tr>\n",
       "    <tr>\n",
       "      <th>4</th>\n",
       "      <td>GTEX-12126-0726</td>\n",
       "      <td>male</td>\n",
       "      <td>20-29</td>\n",
       "      <td>clean_specimens</td>\n",
       "    </tr>\n",
       "  </tbody>\n",
       "</table>\n",
       "</div>"
      ],
      "text/plain": [
       "  Tissue Sample Id     Sex Age Bracket Pathology Categories\n",
       "0  GTEX-111YS-2226    male       60-69        calcification\n",
       "1  GTEX-11GSP-2926  female       60-69        calcification\n",
       "2  GTEX-11LCK-1426    male       30-39      clean_specimens\n",
       "3  GTEX-11ONC-2726    male       60-69        calcification\n",
       "4  GTEX-12126-0726    male       20-29      clean_specimens"
      ]
     },
     "execution_count": 1,
     "metadata": {},
     "output_type": "execute_result"
    }
   ],
   "source": [
    "from huggingface_hub import hf_hub_download\n",
    "import pandas as pd\n",
    "\n",
    "table = hf_hub_download(\n",
    "    \"rendeirolab/lazyslide-data\", \n",
    "    \"GTEx_artery_dataset.csv.gz\",\n",
    "    repo_type=\"dataset\"\n",
    ")\n",
    "\n",
    "dataset = pd.read_csv(table)\n",
    "dataset.head()"
   ]
  },
  {
   "cell_type": "markdown",
   "id": "712fab57-a705-4e64-b5fc-e2da0bfa0774",
   "metadata": {},
   "source": [
    "Here I prepared a set of terms to perform semantic analysis on WSIs."
   ]
  },
  {
   "cell_type": "code",
   "execution_count": 2,
   "id": "fe2b2e8e",
   "metadata": {},
   "outputs": [],
   "source": [
    "terms = [\n",
    "    'BMP-2', 'Monckeberg sclerosis', 'Runx2', 'adventitia', 'apoptosis',\n",
    "    'arterial hardening', 'arterial narrowing', 'arterial remodeling', 'arterial stiffness', 'arteriole',\n",
    "    'artery', 'atherosclerosis', 'basement membrane', 'blood flow', 'bone morphogenetic protein',\n",
    "    'calcification', 'calcified nodule', 'calcium deposition', 'calcium phosphate', 'chronic kidney disease',\n",
    "    'collagen', 'compliance', 'connective tissue', 'elastic fibers', 'elasticity',\n",
    "    'endothelial dysfunction', 'endothelium', 'epithelium', 'external elastic lamina', 'extracellular matrix',\n",
    "    'fibroblast', 'fibrosis', 'fibrous cap', 'gap junction', 'hemodynamics',\n",
    "    'hydroxyapatite', 'hyperphosphatemia', 'inflammation', 'internal elastic lamina', 'interstitial space',\n",
    "    'intima', 'intimal calcification', 'intimal thickening', 'ischemia', 'lamina propria',\n",
    "    'lumen', 'macrocalcification', 'macrophage', 'matrix vesicle', 'mechanotransduction',\n",
    "    'media', 'medial calcification', 'microcalcification', 'mineralization', 'myofibroblast',\n",
    "    'necrotic core', 'osteoblast-like cell', 'osteocalcin', 'osteogenic', 'osteopontin',\n",
    "    'oxidative stress', 'pericyte', 'phosphate transporter', 'plaque', 'shear stress',\n",
    "    'smooth muscle', 'tight junction', 'tunica', 'vasa vasorum', 'vascular basement membrane',\n",
    "    'vascular compliance', 'vascular integrity', 'vascular niche', 'vascular ossification', 'vascular remodeling',\n",
    "    'vascular smooth muscle cell', 'vascular stiffness', 'vascular tone', 'vascular wall'\n",
    "]"
   ]
  },
  {
   "cell_type": "markdown",
   "id": "d2677689-b097-41b2-ba6d-d79a17cdaf2f",
   "metadata": {},
   "source": [
    "Since we need to run for many slides, let's first define a function to process a slide and reuse it."
   ]
  },
  {
   "cell_type": "code",
   "execution_count": 3,
   "id": "b015e717-1e71-418a-a8a9-9395aa074a78",
   "metadata": {},
   "outputs": [],
   "source": [
    "def wsi_feature_extraction(slide):\n",
    "\n",
    "    from wsidata import open_wsi\n",
    "    import lazyslide as zs\n",
    "\n",
    "    s = hf_hub_download(\n",
    "        \"rendeirolab/lazyslide-data\", \n",
    "        f\"gtex_artery_data/{slide}.svs\",\n",
    "        repo_type=\"dataset\"\n",
    "    )\n",
    "    wsi = open_wsi(s, attach_thumbnail=False, store=\"data\")\n",
    "    zs.pp.find_tissues(wsi)\n",
    "    zs.pp.tile_tissues(wsi, 256, mpp=0.5, background_fraction=0.5)\n",
    "\n",
    "    # conch feature\n",
    "    zs.tl.feature_extraction(wsi, \"conch\", pbar=False)\n",
    "    zs.tl.feature_aggregation(wsi, \"conch\")\n",
    "    embed = zs.tl.text_embedding(terms, \"conch\")\n",
    "    zs.tl.text_image_similarity(wsi, embed, \"conch\")\n",
    "    wsi.write()"
   ]
  },
  {
   "cell_type": "markdown",
   "id": "26592041-be1b-44b1-9d35-d9e909c752ab",
   "metadata": {},
   "source": [
    "## Run for every slides\n",
    "\n",
    "The easist way is to run a for-loop:\n",
    "\n",
    "```python\n",
    "for slide in dataset[\"Tissue Sample Id\"]:\n",
    "    wsi_feature_extraction(slide)\n",
    "```\n",
    "\n",
    "However, this will take a long time and doesn't fully use the power of parallism."
   ]
  },
  {
   "cell_type": "markdown",
   "id": "c903059f-a8f3-4d2d-9bc7-907dc63dcca0",
   "metadata": {
    "editable": true,
    "slideshow": {
     "slide_type": ""
    },
    "tags": []
   },
   "source": [
    "## Distributed processing with dask\n",
    "\n",
    "Dask is a good option for parallism on local machine or across multiple machines.\n",
    "\n",
    "For different hardward availabilities, alternatives are:\n",
    "1. [dask-jobqueue](https://jobqueue.dask.org/en/latest/): For PBS, Slurm, MOAB, SGE, LSF, and HTCondor.\n",
    "2. [coiled](https://docs.coiled.io/user_guide/index.html): AWS, GCP, Azure etc.\n",
    "3. [dask-cuda](https://docs.rapids.ai/api/dask-cuda/nightly/quickstart/): If you have multiple GPU cards locally."
   ]
  },
  {
   "cell_type": "markdown",
   "id": "091e4be0-782a-4b02-8544-fe21a4a880c6",
   "metadata": {},
   "source": [
    "Here, we showcase how to parallel the jobs with dask on a SLURM cluster.\n",
    "The configuration may not work on your SLURM system, please make adjustment accordingly.\n",
    "\n",
    "When running GPU-intensive works like feature extraction for multiple WSIs, \n",
    "we recommanded to run one task on one GPU every time.\n",
    "To accelarate the processing speed, either distributed across multiple GPU cards or multiple machines."
   ]
  },
  {
   "cell_type": "markdown",
   "id": "43472407",
   "metadata": {},
   "source": [
    "Here are code snippet to run on different architectures\n",
    "\n",
    "Run local with CPUs:\n",
    "\n",
    "```python\n",
    "from dask.distributed import LocalCluster\n",
    "cluster = LocalCluster()\n",
    "```\n",
    "\n",
    "Run local with many GPUs:\n",
    "\n",
    "```python\n",
    "from dask_cuda import LocalCUDACluster\n",
    "cluster = LocalCUDACluster()\n",
    "```\n",
    "\n",
    "Run on a SLURM cluster with GPUs (Example script, may not work on users' cluster):\n",
    "\n",
    "```python\n",
    "from dask_jobqueue import SLURMCluster\n",
    "\n",
    "cluster = SLURMCluster(\n",
    "    queue=\"gpu\",\n",
    "    cores=8,\n",
    "    processes=1,\n",
    "    memory=\"20 GB\",\n",
    "    # For SLURM, use --gres flag to get GPU\n",
    "    job_extra_directives=[\"--gres=gpu:h100pcie:1\"],\n",
    "    # Each work must one GPU\n",
    "    worker_extra_args=[\"--resources GPU=1\"],\n",
    ")\n",
    "```"
   ]
  },
  {
   "cell_type": "code",
   "execution_count": 9,
   "id": "ff0bf2cb-4fa9-4449-8c32-416cd9fe302a",
   "metadata": {
    "editable": true,
    "slideshow": {
     "slide_type": ""
    }
   },
   "outputs": [],
   "source": [
    "from dask_jobqueue import SLURMCluster\n",
    "\n",
    "cluster = SLURMCluster(\n",
    "    queue=\"gpu\",\n",
    "    cores=8,\n",
    "    processes=1,\n",
    "    memory=\"20 GB\",\n",
    "    interface=\"ib1\",\n",
    "    job_extra_directives=[\"-q gpu\", \"--gres=gpu:l4_gpu:1\", \"--time=2:00:00\"],\n",
    "    worker_extra_args=[\"--resources GPU=1\"],\n",
    "    log_directory=\"./dask-logs\",\n",
    ")"
   ]
  },
  {
   "cell_type": "code",
   "execution_count": 10,
   "id": "1bfc525f",
   "metadata": {},
   "outputs": [
    {
     "data": {
      "text/plain": [
       "<distributed.deploy.adaptive.Adaptive at 0x1555114dd700>"
      ]
     },
     "execution_count": 10,
     "metadata": {},
     "output_type": "execute_result"
    }
   ],
   "source": [
    "from dask.distributed import Client\n",
    "\n",
    "client = Client(cluster)\n",
    "cluster.adapt(minimum=1, maximum=10)"
   ]
  },
  {
   "cell_type": "code",
   "execution_count": 11,
   "id": "6d506f47",
   "metadata": {},
   "outputs": [
    {
     "data": {
      "text/html": [
       "<div>\n",
       "    <div style=\"width: 24px; height: 24px; background-color: #e1e1e1; border: 3px solid #9D9D9D; border-radius: 5px; position: absolute;\"> </div>\n",
       "    <div style=\"margin-left: 48px;\">\n",
       "        <h3 style=\"margin-bottom: 0px;\">Client</h3>\n",
       "        <p style=\"color: #9D9D9D; margin-bottom: 0px;\">Client-9365270a-6d51-11f0-bf27-4f153bb806f6</p>\n",
       "        <table style=\"width: 100%; text-align: left;\">\n",
       "\n",
       "        <tr>\n",
       "        \n",
       "            <td style=\"text-align: left;\"><strong>Connection method:</strong> Cluster object</td>\n",
       "            <td style=\"text-align: left;\"><strong>Cluster type:</strong> dask_jobqueue.SLURMCluster</td>\n",
       "        \n",
       "        </tr>\n",
       "\n",
       "        \n",
       "            <tr>\n",
       "                <td style=\"text-align: left;\">\n",
       "                    <strong>Dashboard: </strong> <a href=\"http://10.110.89.41:8787/status\" target=\"_blank\">http://10.110.89.41:8787/status</a>\n",
       "                </td>\n",
       "                <td style=\"text-align: left;\"></td>\n",
       "            </tr>\n",
       "        \n",
       "\n",
       "        </table>\n",
       "\n",
       "        \n",
       "\n",
       "        \n",
       "            <details>\n",
       "            <summary style=\"margin-bottom: 20px;\"><h3 style=\"display: inline;\">Cluster Info</h3></summary>\n",
       "            <div class=\"jp-RenderedHTMLCommon jp-RenderedHTML jp-mod-trusted jp-OutputArea-output\">\n",
       "    <div style=\"width: 24px; height: 24px; background-color: #e1e1e1; border: 3px solid #9D9D9D; border-radius: 5px; position: absolute;\">\n",
       "    </div>\n",
       "    <div style=\"margin-left: 48px;\">\n",
       "        <h3 style=\"margin-bottom: 0px; margin-top: 0px;\">SLURMCluster</h3>\n",
       "        <p style=\"color: #9D9D9D; margin-bottom: 0px;\">03026b50</p>\n",
       "        <table style=\"width: 100%; text-align: left;\">\n",
       "            <tr>\n",
       "                <td style=\"text-align: left;\">\n",
       "                    <strong>Dashboard:</strong> <a href=\"http://10.110.89.41:8787/status\" target=\"_blank\">http://10.110.89.41:8787/status</a>\n",
       "                </td>\n",
       "                <td style=\"text-align: left;\">\n",
       "                    <strong>Workers:</strong> 0\n",
       "                </td>\n",
       "            </tr>\n",
       "            <tr>\n",
       "                <td style=\"text-align: left;\">\n",
       "                    <strong>Total threads:</strong> 0\n",
       "                </td>\n",
       "                <td style=\"text-align: left;\">\n",
       "                    <strong>Total memory:</strong> 0 B\n",
       "                </td>\n",
       "            </tr>\n",
       "            \n",
       "        </table>\n",
       "\n",
       "        <details>\n",
       "            <summary style=\"margin-bottom: 20px;\">\n",
       "                <h3 style=\"display: inline;\">Scheduler Info</h3>\n",
       "            </summary>\n",
       "\n",
       "            <div style=\"\">\n",
       "    <div>\n",
       "        <div style=\"width: 24px; height: 24px; background-color: #FFF7E5; border: 3px solid #FF6132; border-radius: 5px; position: absolute;\"> </div>\n",
       "        <div style=\"margin-left: 48px;\">\n",
       "            <h3 style=\"margin-bottom: 0px;\">Scheduler</h3>\n",
       "            <p style=\"color: #9D9D9D; margin-bottom: 0px;\">Scheduler-a7c386ef-0280-494d-b545-dba1564844c8</p>\n",
       "            <table style=\"width: 100%; text-align: left;\">\n",
       "                <tr>\n",
       "                    <td style=\"text-align: left;\">\n",
       "                        <strong>Comm:</strong> tcp://10.110.89.41:36261\n",
       "                    </td>\n",
       "                    <td style=\"text-align: left;\">\n",
       "                        <strong>Workers:</strong> 0\n",
       "                    </td>\n",
       "                </tr>\n",
       "                <tr>\n",
       "                    <td style=\"text-align: left;\">\n",
       "                        <strong>Dashboard:</strong> <a href=\"http://10.110.89.41:8787/status\" target=\"_blank\">http://10.110.89.41:8787/status</a>\n",
       "                    </td>\n",
       "                    <td style=\"text-align: left;\">\n",
       "                        <strong>Total threads:</strong> 0\n",
       "                    </td>\n",
       "                </tr>\n",
       "                <tr>\n",
       "                    <td style=\"text-align: left;\">\n",
       "                        <strong>Started:</strong> Just now\n",
       "                    </td>\n",
       "                    <td style=\"text-align: left;\">\n",
       "                        <strong>Total memory:</strong> 0 B\n",
       "                    </td>\n",
       "                </tr>\n",
       "            </table>\n",
       "        </div>\n",
       "    </div>\n",
       "\n",
       "    <details style=\"margin-left: 48px;\">\n",
       "        <summary style=\"margin-bottom: 20px;\">\n",
       "            <h3 style=\"display: inline;\">Workers</h3>\n",
       "        </summary>\n",
       "\n",
       "        \n",
       "\n",
       "    </details>\n",
       "</div>\n",
       "\n",
       "        </details>\n",
       "    </div>\n",
       "</div>\n",
       "            </details>\n",
       "        \n",
       "\n",
       "    </div>\n",
       "</div>"
      ],
      "text/plain": [
       "<Client: 'tcp://10.110.89.41:36261' processes=0 threads=0, memory=0 B>"
      ]
     },
     "execution_count": 11,
     "metadata": {},
     "output_type": "execute_result"
    }
   ],
   "source": [
    "client"
   ]
  },
  {
   "cell_type": "markdown",
   "id": "9e82f355-5413-426c-8f61-64de2028bb48",
   "metadata": {},
   "source": [
    "Let's parallel the jobs"
   ]
  },
  {
   "cell_type": "code",
   "execution_count": 12,
   "id": "b057e66c-8029-493e-b2b1-558f294682bb",
   "metadata": {
    "editable": true,
    "slideshow": {
     "slide_type": ""
    },
    "tags": [
     "skip-execution"
    ]
   },
   "outputs": [],
   "source": [
    "futures = [\n",
    "    client.submit(wsi_feature_extraction, slide, resources={\"GPU\": 1})\n",
    "    for slide in dataset[\"Tissue Sample Id\"]\n",
    "]"
   ]
  },
  {
   "cell_type": "markdown",
   "id": "3860358a-5868-4893-aa95-353d7dd39557",
   "metadata": {},
   "source": [
    "If you want to monitor the process, you can either go to the dask dashboard or use a simple progress bar"
   ]
  },
  {
   "cell_type": "code",
   "execution_count": 13,
   "id": "6f237b27-1d72-4e6e-b4cb-76ace4385d1a",
   "metadata": {
    "editable": true,
    "slideshow": {
     "slide_type": ""
    },
    "tags": [
     "skip-execution"
    ]
   },
   "outputs": [
    {
     "data": {
      "application/vnd.jupyter.widget-view+json": {
       "model_id": "2abcf37d181240d8a8da421db08941dd",
       "version_major": 2,
       "version_minor": 0
      },
      "text/plain": [
       "  0%|          | 0/45 [00:00<?, ?it/s]"
      ]
     },
     "metadata": {},
     "output_type": "display_data"
    }
   ],
   "source": [
    "from dask.distributed import as_completed\n",
    "from tqdm.auto import tqdm\n",
    "\n",
    "for _ in tqdm(as_completed(futures), total=len(futures)):\n",
    "    pass"
   ]
  },
  {
   "cell_type": "code",
   "execution_count": 14,
   "id": "e1288227-7fb1-41fe-86a9-42b02caa28cd",
   "metadata": {},
   "outputs": [],
   "source": [
    "client.shutdown()"
   ]
  },
  {
   "cell_type": "markdown",
   "id": "398642f0-0fc1-486f-b65d-f0b5019c9238",
   "metadata": {},
   "source": [
    "We can calculate the scores for all pathological terms that we defined and save it for further analysis."
   ]
  },
  {
   "cell_type": "code",
   "execution_count": 47,
   "id": "98f928a3-dfa9-4b9d-9e92-2e8f249d9699",
   "metadata": {},
   "outputs": [],
   "source": [
    "from pathlib import Path\n",
    "from anndata import read_zarr\n",
    "\n",
    "slide_scores = {}\n",
    "for store in Path(\"data\").glob(\"*.zarr\"):\n",
    "    adata = read_zarr(store / \"tables\" / \"conch_tiles_text_similarity\")\n",
    "    scores = zs.metrics.topk_score(adata, k=100)\n",
    "    slide_scores[store.stem] = dict(zip(adata.var.index, scores))"
   ]
  },
  {
   "cell_type": "code",
   "execution_count": 48,
   "id": "8c1574ac-5851-41bc-8539-585337746a1c",
   "metadata": {
    "editable": true,
    "slideshow": {
     "slide_type": ""
    },
    "tags": [
     "skip-execution"
    ]
   },
   "outputs": [],
   "source": [
    "slide_scores = pd.DataFrame(slide_scores).T"
   ]
  },
  {
   "cell_type": "markdown",
   "id": "fdc72ad4-7d96-44e9-b821-fc0eef8e5d59",
   "metadata": {
    "editable": true,
    "slideshow": {
     "slide_type": ""
    },
    "tags": []
   },
   "source": [
    "## Slide aggregation\n",
    "\n",
    "After the slides are processed to have slide-level features and scores, we will aggregate them into an AnnData object."
   ]
  },
  {
   "cell_type": "code",
   "execution_count": 51,
   "id": "e1ad3ebc-fc4b-4824-862e-b2068dc7854a",
   "metadata": {
    "editable": true,
    "slideshow": {
     "slide_type": ""
    },
    "tags": [
     "skip-execution"
    ]
   },
   "outputs": [
    {
     "data": {
      "text/plain": [
       "AnnData object with n_obs × n_vars = 45 × 512\n",
       "    obs: 'Tissue Sample Id', 'Sex', 'Age Bracket', 'Pathology Categories', 'store', 'BMP-2', 'Monckeberg sclerosis', 'Runx2', 'adventitia', 'apoptosis', 'arterial hardening', 'arterial narrowing', 'arterial remodeling', 'arterial stiffness', 'arteriole', 'artery', 'atherosclerosis', 'basement membrane', 'blood flow', 'bone morphogenetic protein', 'calcification', 'calcified nodule', 'calcium deposition', 'calcium phosphate', 'chronic kidney disease', 'collagen', 'compliance', 'connective tissue', 'elastic fibers', 'elasticity', 'endothelial dysfunction', 'endothelium', 'epithelium', 'external elastic lamina', 'extracellular matrix', 'fibroblast', 'fibrosis', 'fibrous cap', 'gap junction', 'hemodynamics', 'hydroxyapatite', 'hyperphosphatemia', 'inflammation', 'internal elastic lamina', 'interstitial space', 'intima', 'intimal calcification', 'intimal thickening', 'ischemia', 'lamina propria', 'lumen', 'macrocalcification', 'macrophage', 'matrix vesicle', 'mechanotransduction', 'media', 'medial calcification', 'microcalcification', 'mineralization', 'myofibroblast', 'necrotic core', 'osteoblast-like cell', 'osteocalcin', 'osteogenic', 'osteopontin', 'oxidative stress', 'pericyte', 'phosphate transporter', 'plaque', 'shear stress', 'smooth muscle', 'tight junction', 'tunica', 'vasa vasorum', 'vascular basement membrane', 'vascular compliance', 'vascular integrity', 'vascular niche', 'vascular ossification', 'vascular remodeling', 'vascular smooth muscle cell', 'vascular stiffness', 'vascular tone', 'vascular wall'"
      ]
     },
     "execution_count": 51,
     "metadata": {},
     "output_type": "execute_result"
    }
   ],
   "source": [
    "from wsidata import agg_wsi\n",
    "\n",
    "dataset[\"store\"] = [f\"data/{s}.zarr\" for s in dataset[\"Tissue Sample Id\"]]\n",
    "agg_data = agg_wsi(dataset, \"conch\", store_col=\"store\", agg_key=\"agg_slide\")\n",
    "agg_data.obs = agg_data.obs.join(slide_scores, on=\"Tissue Sample Id\")\n",
    "agg_data"
   ]
  },
  {
   "cell_type": "code",
   "execution_count": 52,
   "id": "869db3f2-9c1d-45af-a77d-0c53e6bf441d",
   "metadata": {},
   "outputs": [],
   "source": [
    "agg_data.write_h5ad(\"agg_conch_features.h5ad\")"
   ]
  }
 ],
 "metadata": {
  "jupytext": {
   "default_lexer": "ipython3"
  },
  "kernelspec": {
   "display_name": "Python 3 (ipykernel)",
   "language": "python",
   "name": "python3"
  },
  "language_info": {
   "codemirror_mode": {
    "name": "ipython",
    "version": 3
   },
   "file_extension": ".py",
   "mimetype": "text/x-python",
   "name": "python",
   "nbconvert_exporter": "python",
   "pygments_lexer": "ipython3",
   "version": "3.12.9"
  },
  "widgets": {
   "application/vnd.jupyter.widget-state+json": {
    "state": {},
    "version_major": 2,
    "version_minor": 0
   }
  }
 },
 "nbformat": 4,
 "nbformat_minor": 5
}
