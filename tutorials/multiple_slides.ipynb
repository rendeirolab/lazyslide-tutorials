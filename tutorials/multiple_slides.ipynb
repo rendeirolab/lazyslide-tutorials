{
 "cells": [
  {
   "cell_type": "markdown",
   "id": "d0079717-04b5-4435-90aa-445c92441e6a",
   "metadata": {},
   "source": [
    "# Integration with slide level-labels\n",
    "\n",
    "In this tutorial we will demonstrate how to integrate whole slide images (WSIs) with slide-level labels and derive quantitative scores for each slide via top-K scoring.\n",
    "\n",
    "We will also demonstrate how to run tasks in a distributed fashion using dask.\n",
    "\n",
    "For this, we will be using a pre-processed dataset of artery tissue from GTEx, whihc contains healthy and calcified samples."
   ]
  },
  {
   "cell_type": "code",
   "execution_count": 2,
   "id": "6293d20c-f84c-48e1-9a04-f02ec3fcbb8c",
   "metadata": {
    "editable": true,
    "slideshow": {
     "slide_type": ""
    },
    "tags": []
   },
   "outputs": [
    {
     "data": {
      "text/html": [
       "<div>\n",
       "<style scoped>\n",
       "    .dataframe tbody tr th:only-of-type {\n",
       "        vertical-align: middle;\n",
       "    }\n",
       "\n",
       "    .dataframe tbody tr th {\n",
       "        vertical-align: top;\n",
       "    }\n",
       "\n",
       "    .dataframe thead th {\n",
       "        text-align: right;\n",
       "    }\n",
       "</style>\n",
       "<table border=\"1\" class=\"dataframe\">\n",
       "  <thead>\n",
       "    <tr style=\"text-align: right;\">\n",
       "      <th></th>\n",
       "      <th>Tissue Sample Id</th>\n",
       "      <th>Sex</th>\n",
       "      <th>Age Bracket</th>\n",
       "      <th>Pathology Categories</th>\n",
       "    </tr>\n",
       "  </thead>\n",
       "  <tbody>\n",
       "    <tr>\n",
       "      <th>0</th>\n",
       "      <td>GTEX-111YS-2226</td>\n",
       "      <td>male</td>\n",
       "      <td>60-69</td>\n",
       "      <td>calcification</td>\n",
       "    </tr>\n",
       "    <tr>\n",
       "      <th>1</th>\n",
       "      <td>GTEX-11GSP-2926</td>\n",
       "      <td>female</td>\n",
       "      <td>60-69</td>\n",
       "      <td>calcification</td>\n",
       "    </tr>\n",
       "    <tr>\n",
       "      <th>2</th>\n",
       "      <td>GTEX-11LCK-1426</td>\n",
       "      <td>male</td>\n",
       "      <td>30-39</td>\n",
       "      <td>clean_specimens</td>\n",
       "    </tr>\n",
       "    <tr>\n",
       "      <th>3</th>\n",
       "      <td>GTEX-11ONC-2726</td>\n",
       "      <td>male</td>\n",
       "      <td>60-69</td>\n",
       "      <td>calcification</td>\n",
       "    </tr>\n",
       "    <tr>\n",
       "      <th>4</th>\n",
       "      <td>GTEX-12126-0726</td>\n",
       "      <td>male</td>\n",
       "      <td>20-29</td>\n",
       "      <td>clean_specimens</td>\n",
       "    </tr>\n",
       "  </tbody>\n",
       "</table>\n",
       "</div>"
      ],
      "text/plain": [
       "  Tissue Sample Id     Sex Age Bracket Pathology Categories\n",
       "0  GTEX-111YS-2226    male       60-69        calcification\n",
       "1  GTEX-11GSP-2926  female       60-69        calcification\n",
       "2  GTEX-11LCK-1426    male       30-39      clean_specimens\n",
       "3  GTEX-11ONC-2726    male       60-69        calcification\n",
       "4  GTEX-12126-0726    male       20-29      clean_specimens"
      ]
     },
     "execution_count": 2,
     "metadata": {},
     "output_type": "execute_result"
    }
   ],
   "source": [
    "from huggingface_hub import hf_hub_download\n",
    "import pandas as pd\n",
    "\n",
    "table = hf_hub_download(\n",
    "    \"rendeirolab/lazyslide-data\", \n",
    "    \"GTEx_artery_dataset.csv.gz\",\n",
    "    repo_type=\"dataset\"\n",
    ")\n",
    "\n",
    "dataset = pd.read_csv(table)\n",
    "dataset.head()"
   ]
  },
  {
   "cell_type": "markdown",
   "id": "d2677689-b097-41b2-ba6d-d79a17cdaf2f",
   "metadata": {},
   "source": [
    "Since we need to run for many slides, let's first define a function to process a slide and reuse it."
   ]
  },
  {
   "cell_type": "code",
   "execution_count": null,
   "id": "1525c74d-60e1-408e-891e-ef09d36d9663",
   "metadata": {},
   "outputs": [],
   "source": [
    "from wsidata import open_wsi\n",
    "import lazyslide as zs\n",
    "import numpy as np\n",
    "import pooch"
   ]
  },
  {
   "cell_type": "code",
   "execution_count": null,
   "id": "b015e717-1e71-418a-a8a9-9395aa074a78",
   "metadata": {},
   "outputs": [],
   "source": [
    "terms = [\"calcification\", \"atherosclerosis\"]\n",
    "\n",
    "def wsi_feature_extraction(slide):\n",
    "    s = pooch.retrieve(\n",
    "        url=f\"https://brd.nci.nih.gov/brd/imagedownload/{slide}\",\n",
    "        fname=f\"{slide}.svs\",\n",
    "        path=\"gtex_artery_slides\",\n",
    "        known_hash=None,\n",
    "    )\n",
    "    wsi = open_wsi(s)\n",
    "    zs.pp.find_tissues(wsi)\n",
    "    zs.pp.tile_tissues(wsi, 256, mpp=0.5, background_fraction=0.5)\n",
    "\n",
    "    # conch feature\n",
    "    zs.tl.feature_extraction(wsi, \"conch\", pbar=False)\n",
    "    embed = zs.tl.text_embedding(terms, \"conch\")\n",
    "    zs.tl.text_image_similarity(wsi, embed, \"conch\")\n",
    "    wsi.write()\n",
    "\n",
    "    # score the slide with Top-K max pooling\n",
    "    scores = zs.metrics.topk_scores(wsi[\"conch_tiles_text_similarity\"], k=100)\n",
    "\n",
    "    return scores"
   ]
  },
  {
   "cell_type": "markdown",
   "id": "26592041-be1b-44b1-9d35-d9e909c752ab",
   "metadata": {},
   "source": [
    "## Run for every slides\n",
    "\n",
    "The easist way is to run a for-loop:\n",
    "\n",
    "```python\n",
    "for slide in dataset[\"Tissue Sample Id\"]:\n",
    "    wsi_feature_extraction(slide)\n",
    "```\n",
    "\n",
    "However, this will take a long time and doesn't fully use the power of parallism."
   ]
  },
  {
   "cell_type": "markdown",
   "id": "c903059f-a8f3-4d2d-9bc7-907dc63dcca0",
   "metadata": {
    "editable": true,
    "slideshow": {
     "slide_type": ""
    },
    "tags": []
   },
   "source": [
    "## Distributed processing with dask\n",
    "\n",
    "Dask is a good option for parallism on local machine or across multiple machines.\n",
    "\n",
    "For different hardward availabilities, alternatives are:\n",
    "1. [dask-jobqueue](https://jobqueue.dask.org/en/latest/): For PBS, Slurm, MOAB, SGE, LSF, and HTCondor.\n",
    "2. [coiled](https://docs.coiled.io/user_guide/index.html): AWS, GCP, Azure etc.\n",
    "3. [dask-cuda](https://docs.rapids.ai/api/dask-cuda/nightly/quickstart/): If you have multiple GPU cards locally."
   ]
  },
  {
   "cell_type": "markdown",
   "id": "091e4be0-782a-4b02-8544-fe21a4a880c6",
   "metadata": {},
   "source": [
    "Here, we showcase how to parallel the jobs with dask on a SLURM cluster.\n",
    "The configuration may not work on your SLURM system, please make adjustment accordingly.\n",
    "\n",
    "When running GPU-intensive works like feature extraction for multiple WSIs, \n",
    "we recommanded to run one task on one GPU every time.\n",
    "To accelarate the processing speed, either distributed across multiple GPU cards or multiple machines."
   ]
  },
  {
   "cell_type": "code",
   "execution_count": null,
   "id": "ff0bf2cb-4fa9-4449-8c32-416cd9fe302a",
   "metadata": {
    "editable": true,
    "slideshow": {
     "slide_type": ""
    },
    "tags": [
     "skip-execution"
    ]
   },
   "outputs": [],
   "source": [
    "from dask_jobqueue import SLURMCluster\n",
    "from dask.distributed import Client\n",
    "\n",
    "cluster = SLURMCluster(\n",
    "    queue=\"gpu\",\n",
    "    cores=8,\n",
    "    processes=1,\n",
    "    memory=\"20 GB\",\n",
    "    job_extra_directives=[\"-q gpu\", \"--gres=gpu:h100pcie:1\", \"--time=02:00:00\"],\n",
    "    worker_extra_args=[\"--resources GPU=1\"],\n",
    "    log_directory=\"./dask-logs\",\n",
    ")\n",
    "\n",
    "client = Client(cluster)\n",
    "cluster.scale(3)  # Request for 3 workers, each owns one H100"
   ]
  },
  {
   "cell_type": "markdown",
   "id": "9e82f355-5413-426c-8f61-64de2028bb48",
   "metadata": {},
   "source": [
    "Let's parallel the jobs"
   ]
  },
  {
   "cell_type": "code",
   "execution_count": 39,
   "id": "b057e66c-8029-493e-b2b1-558f294682bb",
   "metadata": {
    "editable": true,
    "slideshow": {
     "slide_type": ""
    },
    "tags": [
     "skip-execution"
    ]
   },
   "outputs": [],
   "source": [
    "futures = [\n",
    "    client.submit(wsi_feature_extraction, slide, resources={\"GPU\": 1})\n",
    "    for slide in dataset[\"Tissue Sample Id\"]\n",
    "]"
   ]
  },
  {
   "cell_type": "markdown",
   "id": "3860358a-5868-4893-aa95-353d7dd39557",
   "metadata": {},
   "source": [
    "If you want to monitor the process, you can either go to the dask dashboard or use a simple progress bar"
   ]
  },
  {
   "cell_type": "code",
   "execution_count": null,
   "id": "6f237b27-1d72-4e6e-b4cb-76ace4385d1a",
   "metadata": {
    "editable": true,
    "slideshow": {
     "slide_type": ""
    },
    "tags": [
     "skip-execution"
    ]
   },
   "outputs": [],
   "source": [
    "from dask.distributed import as_completed\n",
    "from tqdm.auto import tqdm\n",
    "\n",
    "for _ in tqdm(as_completed(futures), total=len(futures)):\n",
    "    pass"
   ]
  },
  {
   "cell_type": "markdown",
   "id": "398642f0-0fc1-486f-b65d-f0b5019c9238",
   "metadata": {},
   "source": [
    "Our function returns the scores for the two pathological terms that we defined, \n",
    "we can collect the scores and save it for further analysis."
   ]
  },
  {
   "cell_type": "code",
   "execution_count": 41,
   "id": "8c1574ac-5851-41bc-8539-585337746a1c",
   "metadata": {
    "editable": true,
    "slideshow": {
     "slide_type": ""
    },
    "tags": [
     "skip-execution"
    ]
   },
   "outputs": [],
   "source": [
    "slide_scores = pd.DataFrame(\n",
    "    np.vstack([f.result() for f in futures]),\n",
    "    columns=terms,\n",
    "    index=dataset[\"Tissue Sample Id\"],\n",
    ")\n",
    "slide_scores.to_csv(\"slide_scores.csv\")"
   ]
  },
  {
   "cell_type": "code",
   "execution_count": 87,
   "id": "12c4b9ba-4b80-4b1c-8042-4a5349a4ad58",
   "metadata": {
    "editable": true,
    "slideshow": {
     "slide_type": ""
    },
    "tags": [
     "skip-execution"
    ]
   },
   "outputs": [],
   "source": [
    "client.shutdown()"
   ]
  },
  {
   "cell_type": "markdown",
   "id": "fdc72ad4-7d96-44e9-b821-fc0eef8e5d59",
   "metadata": {
    "editable": true,
    "slideshow": {
     "slide_type": ""
    },
    "tags": []
   },
   "source": [
    "## Slide aggregation\n",
    "\n",
    "After the slides are processed to have slide-level features and scores, we will aggregate them into an AnnData object."
   ]
  },
  {
   "cell_type": "code",
   "execution_count": 43,
   "id": "e1ad3ebc-fc4b-4824-862e-b2068dc7854a",
   "metadata": {
    "editable": true,
    "slideshow": {
     "slide_type": ""
    },
    "tags": [
     "skip-execution"
    ]
   },
   "outputs": [
    {
     "data": {
      "text/plain": [
       "AnnData object with n_obs × n_vars = 45 × 1536\n",
       "    obs: 'Sex', 'Age Bracket', 'Pathology Categories', 'slide', 'calcification', 'atherosclerosis'"
      ]
     },
     "execution_count": 43,
     "metadata": {},
     "output_type": "execute_result"
    }
   ],
   "source": [
    "from wsidata import agg_wsi\n",
    "\n",
    "dataset[\"slide\"] = [f\"gtex_artery_slides/{s}.svs\" for s in dataset[\"Tissue Sample Id\"]]\n",
    "agg_data = agg_wsi(dataset, \"uni2\", wsi_col=\"slide\", agg_key=\"agg_slide\")\n",
    "agg_data.obs = agg_data.obs.merge(slide_scores, on=\"Tissue Sample Id\").set_index(\n",
    "    \"Tissue Sample Id\"\n",
    ")\n",
    "agg_data"
   ]
  },
  {
   "cell_type": "code",
   "execution_count": 44,
   "id": "5cf0ee08-f2fa-48ac-a53f-b40fa8e80d46",
   "metadata": {
    "editable": true,
    "slideshow": {
     "slide_type": ""
    },
    "tags": [
     "skip-execution"
    ]
   },
   "outputs": [],
   "source": [
    "agg_data.write_h5ad(\"agg_uni2_features.h5ad\")"
   ]
  }
 ],
 "metadata": {
  "jupytext": {
   "default_lexer": "ipython3"
  },
  "kernelspec": {
   "display_name": "Python 3 (ipykernel)",
   "language": "python",
   "name": "python3"
  },
  "language_info": {
   "codemirror_mode": {
    "name": "ipython",
    "version": 3
   },
   "file_extension": ".py",
   "mimetype": "text/x-python",
   "name": "python",
   "nbconvert_exporter": "python",
   "pygments_lexer": "ipython3",
   "version": "3.12.8"
  },
  "widgets": {
   "application/vnd.jupyter.widget-state+json": {
    "state": {},
    "version_major": 2,
    "version_minor": 0
   }
  }
 },
 "nbformat": 4,
 "nbformat_minor": 5
}
