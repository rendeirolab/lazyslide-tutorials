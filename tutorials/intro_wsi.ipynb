{
 "cells": [
  {
   "cell_type": "markdown",
   "id": "946b7b42",
   "metadata": {
    "editable": true,
    "slideshow": {
     "slide_type": ""
    }
   },
   "source": [
    "# Welcome to the world of Whole slide images!"
   ]
  },
  {
   "cell_type": "markdown",
   "id": "16542c1f",
   "metadata": {},
   "source": [
    "## What is a Whole Slide Image (WSI)?\n",
    "\n",
    "Welcome to our tutorial series! In this first lesson, we'll explore the fascinating world of Whole Slide Images (WSI).\n",
    "\n",
    "Whole slide imaging (WSI) refers to the digital versions of histological slides, which are typically stained using [H&E stains](https://en.wikipedia.org/wiki/H%26E_stain) (Hematoxylin and Eosin) or [IHC stains](https://en.wikipedia.org/wiki/Immunohistochemistry) (Immunohistochemistry). Using specialized digital scanners that combine high-resolution cameras with microscopy technology, we can create incredibly detailed digital versions of tissue slides that capture even the finest subcellular structures.\n",
    "\n",
    "What makes WSI particularly unique compared to other imaging data is its enormous file size, which can easily reach several gigabytes even after compression. This substantial size presents special challenges for processing and analyzing these images, as it's often impossible to load the entire high-resolution image into memory at once. Don't worry though - we'll show you elegant solutions to handle this challenge!"
   ]
  },
  {
   "cell_type": "markdown",
   "id": "aa737cee",
   "metadata": {},
   "source": [
    "## The pyramid structure in WSI: A clever solution\n",
    "\n",
    "One of the most ingenious aspects of WSI technology is the pyramid structure. Think of it as storing the same image at multiple resolutions, creating a stack of layers. At the base (level 0), you have the full-resolution image with all its detail. As you move up the pyramid (to levels 1, 2, 3, etc.), each level contains a progressively lower-resolution version of the same image.\n",
    "\n",
    "This brilliant design elegantly solves the problem of WSI's massive file size in the following way:\n",
    "- When you want an overview of the entire slide, the system can quickly load a low-resolution version from the top of the pyramid\n",
    "- When you need to examine a specific area in detail, only that small region is loaded at high resolution\n",
    "- This approach means you never need to load the entire gigabyte-sized high-resolution image at once\n",
    "\n",
    "The pyramid structure makes navigating and analyzing WSI files not only possible but remarkably efficient, even on standard computers. It's a perfect example of how clever data structures can overcome significant technical challenges!\n",
    "\n",
    "<img src='https://github.com/rendeirolab/LazySlide/blob/main/assets/WSI_intro.png?raw=true' width=\"500\">"
   ]
  },
  {
   "cell_type": "markdown",
   "id": "aac0c29d",
   "metadata": {},
   "source": [
    "## Understanding WSI file formats\n",
    "\n",
    "As you begin working with whole slide images, you'll encounter various file formats. Let's take a moment to understand the landscape of WSI file formats available in the field.\n",
    "\n",
    "Below is a helpful table of common WSI file formats you might encounter. It's worth noting that most of these formats are proprietary, which means you can read the files using specialized software but typically cannot create them without the vendor's tools. The exception is `.tiff`, which is an open-source file format that offers more flexibility for both reading and writing.\n",
    "\n",
    "<table border=\"1\">\n",
    "    <thead>\n",
    "        <tr>\n",
    "            <th>Format</th>\n",
    "            <th>File Extensions</th>\n",
    "            <th>Vendor</th>\n",
    "            <th>Notes</th>\n",
    "        </tr>\n",
    "    </thead>\n",
    "    <tbody>\n",
    "        <tr>\n",
    "            <td>Aperio</td>\n",
    "            <td>.svs, .tif</td>\n",
    "            <td>Leica Biosystems</td>\n",
    "            <td>Supports multiple compression formats.</td>\n",
    "        </tr>\n",
    "        <tr>\n",
    "            <td>Hamamatsu</td>\n",
    "            <td>.vms, .vmu, .ndpi</td>\n",
    "            <td>Hamamatsu</td>\n",
    "            <td>Widely used in digital pathology.</td>\n",
    "        </tr>\n",
    "        <tr>\n",
    "            <td>Leica</td>\n",
    "            <td>.scn</td>\n",
    "            <td>Leica Biosystems</td>\n",
    "            <td>Used in clinical and research applications.</td>\n",
    "        </tr>\n",
    "        <tr>\n",
    "            <td>Mirax</td>\n",
    "            <td>.mrxs</td>\n",
    "            <td>3DHISTECH</td>\n",
    "            <td>Can contain multiple images per slide.</td>\n",
    "        </tr>\n",
    "        <tr>\n",
    "            <td>Philips</td>\n",
    "            <td>.tiff</td>\n",
    "            <td>Philips</td>\n",
    "            <td>Optimized for pathology workflows.</td>\n",
    "        </tr>\n",
    "        <tr>\n",
    "            <td>Sakura</td>\n",
    "            <td>.svslide</td>\n",
    "            <td>Sakura Finetek</td>\n",
    "            <td>Less commonly used format.</td>\n",
    "        </tr>\n",
    "        <tr>\n",
    "            <td>Trestle</td>\n",
    "            <td>.tif</td>\n",
    "            <td>Trestle Corporation</td>\n",
    "            <td>Older format, may have compatibility issues.</td>\n",
    "        </tr>\n",
    "        <tr>\n",
    "            <td>Ventana</td>\n",
    "            <td>.bif</td>\n",
    "            <td>Roche</td>\n",
    "            <td>Supports multi-layer images.</td>\n",
    "        </tr>\n",
    "        <tr>\n",
    "            <td>DICOM</td>\n",
    "            <td>.dcm</td>\n",
    "            <td>Standard</td>\n",
    "            <td>Medical imaging standard; support may vary.</td>\n",
    "        </tr>\n",
    "        <tr>\n",
    "            <td>Zeiss</td>\n",
    "            <td>.czi</td>\n",
    "            <td>Zeiss</td>\n",
    "            <td>High-resolution imaging format.</td>\n",
    "        </tr>\n",
    "        <tr>\n",
    "            <td>Generic TIFF</td>\n",
    "            <td>.tif, .tiff</td>\n",
    "            <td>Various</td>\n",
    "            <td>Common format; may lack specific WSI metadata.</td>\n",
    "        </tr>\n",
    "    </tbody>\n",
    "</table>"
   ]
  },
  {
   "cell_type": "markdown",
   "id": "4742aa79",
   "metadata": {},
   "source": [
    "# Let's Get Hands-On with a Real WSI!\n",
    "\n",
    "Now that we've covered the theoretical aspects of whole slide images, let's put our knowledge into practice! In this hands-on section, we'll use a real [GTEx histology](https://gtexportal.org/home/histologyPage) slide as our example. This practical exercise will help you understand different aspects of WSI that will be valuable for your downstream analysis.\n",
    "\n",
    "Don't worry if you encounter concepts that seem unfamiliar at this stage - that's completely normal when learning a new technology. We'll cover all the essential details in the upcoming sections where we'll explore how to use the powerful `LazySlide` and `wsidata` libraries to work with these complex images."
   ]
  },
  {
   "cell_type": "markdown",
   "id": "c180c24b",
   "metadata": {},
   "source": [
    "## Step 1: Loading our first slide file\n",
    "\n",
    "First, let's download and load a whole slide image. We'll use the `pooch` library to retrieve a sample slide from the GTEx project. This library helps us download and cache the file, so we only need to download it once."
   ]
  },
  {
   "cell_type": "code",
   "execution_count": 1,
   "id": "ee0bea0d",
   "metadata": {
    "execution": {
     "iopub.execute_input": "2025-07-29T21:28:11.823554Z",
     "iopub.status.busy": "2025-07-29T21:28:11.823255Z",
     "iopub.status.idle": "2025-07-29T21:28:15.299420Z",
     "shell.execute_reply": "2025-07-29T21:28:15.298919Z"
    }
   },
   "outputs": [],
   "source": [
    "from huggingface_hub import hf_hub_download\n",
    "\n",
    "slide = hf_hub_download(\n",
    "    \"rendeirolab/lazyslide-data\", \n",
    "    \"GTEX-1117F-0526.svs\", \n",
    "    repo_type=\"dataset\",\n",
    "    cache_dir=\".\"\n",
    ")"
   ]
  },
  {
   "cell_type": "code",
   "execution_count": 2,
   "id": "8855fd84",
   "metadata": {
    "execution": {
     "iopub.execute_input": "2025-07-29T21:28:15.301569Z",
     "iopub.status.busy": "2025-07-29T21:28:15.301397Z",
     "iopub.status.idle": "2025-07-29T21:28:39.023211Z",
     "shell.execute_reply": "2025-07-29T21:28:39.022881Z"
    }
   },
   "outputs": [
    {
     "name": "stderr",
     "output_type": "stream",
     "text": [
      "/usr/lib/python3.12/importlib/__init__.py:90: FutureWarning: The legacy Dask DataFrame implementation is deprecated and will be removed in a future version. Set the configuration option `dataframe.query-planning` to `True` or None to enable the new Dask Dataframe implementation and silence this warning.\n",
      "  return _bootstrap._gcd_import(name[level:], package, level)\n"
     ]
    },
    {
     "name": "stderr",
     "output_type": "stream",
     "text": [
      "/home/runner/work/lazyslide-tutorials/lazyslide-tutorials/.venv/lib/python3.12/site-packages/xarray_schema/__init__.py:1: UserWarning: pkg_resources is deprecated as an API. See https://setuptools.pypa.io/en/latest/pkg_resources.html. The pkg_resources package is slated for removal as early as 2025-11-30. Refrain from using this package or pin to Setuptools<81.\n",
      "  from pkg_resources import DistributionNotFound, get_distribution\n"
     ]
    },
    {
     "data": {
      "text/html": [
       "\n",
       "                <div style=\"display: flex; align-items: center; gap: 10px;\">\n",
       "                    <img src=\"data:image/png;base64,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\" \n",
       "                    style=\"border: 1px solid #ddd; border-radius: 8px; \n",
       "                    max-width: 300px; max-height: 100%; object-fit: contain;\">\n",
       "                    <div>\n",
       "                        <b>WSI:</b> datasets--rendeirolab--lazyslide-data/snapshots/3ae589f240b9897db973b706f77636559b100696/GTEX-1117F-0526.svs<br>\n",
       "                        <b>Reader:</b> openslide<br>\n",
       "                        <b>Dimensions:</b> 19958×19919 (h×w), 3 Pyramids<br>\n",
       "                        <b>Pixel physical size:</b> 0.49 MPP (20X)<br>\n",
       "                        <pre style=\"padding: 8px; border-radius: 4px; font-size: 8pt\">SpatialData object\n",
       "└── Images\n",
       "      └── 'wsi_thumbnail': DataArray[cyx] (3, 1996, 1992)\n",
       "with coordinate systems:\n",
       "    ▸ 'global', with elements:\n",
       "        wsi_thumbnail (Images)</pre>\n",
       "                    </div>\n",
       "                </div>"
      ],
      "text/plain": [
       "WSI: datasets--rendeirolab--lazyslide-data/snapshots/3ae589f240b9897db973b706f77636559b100696/GTEX-1117F-0526.svs\n",
       "Reader: openslide\n",
       "Dimensions: 19958×19919 (h×w), 3 Pyramids\n",
       "Pixel physical size: 0.4942 MPP\n",
       "SpatialData object\n",
       "└── Images\n",
       "      └── 'wsi_thumbnail': DataArray[cyx] (3, 1996, 1992)\n",
       "with coordinate systems:\n",
       "    ▸ 'global', with elements:\n",
       "        wsi_thumbnail (Images)"
      ]
     },
     "execution_count": 2,
     "metadata": {},
     "output_type": "execute_result"
    }
   ],
   "source": [
    "from wsidata import open_wsi\n",
    "\n",
    "# Now we'll open the slide using the open_wsi function from wsidata\n",
    "# This creates a WSIData object that contains both the image and associated metadata\n",
    "wsi = open_wsi(slide)\n",
    "\n",
    "# Let's examine what's in our WSI object\n",
    "wsi"
   ]
  },
  {
   "cell_type": "markdown",
   "id": "f3c85287",
   "metadata": {},
   "source": [
    "## Step 2: Visualizing our whole slide image\n",
    "\n",
    "Now that we've loaded our WSI, let's visualize it! One of the great features of LazySlide is how easy it makes viewing these complex images. We'll use the `tissue` function from the plotting module to display our slide."
   ]
  },
  {
   "cell_type": "code",
   "execution_count": 3,
   "id": "e0d13132",
   "metadata": {
    "execution": {
     "iopub.execute_input": "2025-07-29T21:28:39.024884Z",
     "iopub.status.busy": "2025-07-29T21:28:39.024599Z",
     "iopub.status.idle": "2025-07-29T21:28:42.035873Z",
     "shell.execute_reply": "2025-07-29T21:28:42.035591Z"
    }
   },
   "outputs": [
    {
     "name": "stderr",
     "output_type": "stream",
     "text": [
      "findfont: Generic family 'sans-serif' not found because none of the following families were found: Arial\n"
     ]
    },
    {
     "name": "stderr",
     "output_type": "stream",
     "text": [
      "findfont: Generic family 'sans-serif' not found because none of the following families were found: Arial\n"
     ]
    },
    {
     "name": "stderr",
     "output_type": "stream",
     "text": [
      "findfont: Generic family 'sans-serif' not found because none of the following families were found: Arial\n"
     ]
    },
    {
     "name": "stderr",
     "output_type": "stream",
     "text": [
      "findfont: Generic family 'sans-serif' not found because none of the following families were found: Arial\n"
     ]
    },
    {
     "name": "stderr",
     "output_type": "stream",
     "text": [
      "findfont: Generic family 'sans-serif' not found because none of the following families were found: Arial\n"
     ]
    },
    {
     "name": "stderr",
     "output_type": "stream",
     "text": [
      "findfont: Generic family 'sans-serif' not found because none of the following families were found: Arial\n"
     ]
    },
    {
     "name": "stderr",
     "output_type": "stream",
     "text": [
      "findfont: Generic family 'sans-serif' not found because none of the following families were found: Arial\n"
     ]
    },
    {
     "name": "stderr",
     "output_type": "stream",
     "text": [
      "findfont: Generic family 'sans-serif' not found because none of the following families were found: Arial\n"
     ]
    },
    {
     "name": "stderr",
     "output_type": "stream",
     "text": [
      "findfont: Generic family 'sans-serif' not found because none of the following families were found: Arial\n"
     ]
    },
    {
     "name": "stderr",
     "output_type": "stream",
     "text": [
      "findfont: Generic family 'sans-serif' not found because none of the following families were found: Arial\n"
     ]
    },
    {
     "name": "stderr",
     "output_type": "stream",
     "text": [
      "findfont: Generic family 'sans-serif' not found because none of the following families were found: Arial\n"
     ]
    },
    {
     "name": "stderr",
     "output_type": "stream",
     "text": [
      "findfont: Generic family 'sans-serif' not found because none of the following families were found: Arial\n"
     ]
    },
    {
     "name": "stderr",
     "output_type": "stream",
     "text": [
      "findfont: Generic family 'sans-serif' not found because none of the following families were found: Arial\n"
     ]
    },
    {
     "name": "stderr",
     "output_type": "stream",
     "text": [
      "findfont: Generic family 'sans-serif' not found because none of the following families were found: Arial\n"
     ]
    },
    {
     "name": "stderr",
     "output_type": "stream",
     "text": [
      "findfont: Generic family 'sans-serif' not found because none of the following families were found: Arial\n"
     ]
    },
    {
     "name": "stderr",
     "output_type": "stream",
     "text": [
      "findfont: Generic family 'sans-serif' not found because none of the following families were found: Arial\n"
     ]
    },
    {
     "name": "stderr",
     "output_type": "stream",
     "text": [
      "findfont: Generic family 'sans-serif' not found because none of the following families were found: Arial\n"
     ]
    },
    {
     "name": "stderr",
     "output_type": "stream",
     "text": [
      "findfont: Generic family 'sans-serif' not found because none of the following families were found: Arial\n"
     ]
    },
    {
     "name": "stderr",
     "output_type": "stream",
     "text": [
      "findfont: Generic family 'sans-serif' not found because none of the following families were found: Arial\n"
     ]
    },
    {
     "name": "stderr",
     "output_type": "stream",
     "text": [
      "findfont: Generic family 'sans-serif' not found because none of the following families were found: Arial\n"
     ]
    },
    {
     "name": "stderr",
     "output_type": "stream",
     "text": [
      "findfont: Generic family 'sans-serif' not found because none of the following families were found: Arial\n"
     ]
    },
    {
     "name": "stderr",
     "output_type": "stream",
     "text": [
      "findfont: Generic family 'sans-serif' not found because none of the following families were found: Arial\n"
     ]
    },
    {
     "name": "stderr",
     "output_type": "stream",
     "text": [
      "findfont: Generic family 'sans-serif' not found because none of the following families were found: Arial\n"
     ]
    },
    {
     "name": "stderr",
     "output_type": "stream",
     "text": [
      "findfont: Generic family 'sans-serif' not found because none of the following families were found: Arial\n"
     ]
    },
    {
     "name": "stderr",
     "output_type": "stream",
     "text": [
      "findfont: Generic family 'sans-serif' not found because none of the following families were found: Arial\n"
     ]
    },
    {
     "name": "stderr",
     "output_type": "stream",
     "text": [
      "findfont: Generic family 'sans-serif' not found because none of the following families were found: Arial\n"
     ]
    },
    {
     "name": "stderr",
     "output_type": "stream",
     "text": [
      "findfont: Generic family 'sans-serif' not found because none of the following families were found: Arial\n"
     ]
    },
    {
     "name": "stderr",
     "output_type": "stream",
     "text": [
      "findfont: Generic family 'sans-serif' not found because none of the following families were found: Arial\n"
     ]
    },
    {
     "data": {
      "image/png": "[encoded data removed]",
      "text/plain": [
       "<Figure size 400x400 with 1 Axes>"
      ]
     },
     "metadata": {},
     "output_type": "display_data"
    }
   ],
   "source": [
    "import lazyslide as zs\n",
    "\n",
    "zs.pl.tissue(wsi)"
   ]
  },
  {
   "cell_type": "markdown",
   "id": "75902426",
   "metadata": {},
   "source": [
    "## Step 3: Exploring the pyramid structure\n",
    "\n",
    "Let's examine the pyramid structure in our example WSI. You'll notice that this slide has 3 levels in its pyramid. This is a perfect opportunity to observe how the pyramid structure works in practice!\n",
    "\n",
    "As we move up the pyramid (as the level number increases), you'll see that:\n",
    "1. The image dimensions (height and width) become progressively smaller\n",
    "2. The downsample factor becomes progressively larger\n",
    "\n",
    "This relationship demonstrates exactly how the pyramid structure efficiently stores multiple resolutions of the same image.\n",
    "\n",
    ":::{tip}\n",
    "The downsample factor always uses the level 0 as reference.\n",
    ":::"
   ]
  },
  {
   "cell_type": "code",
   "execution_count": 4,
   "id": "7e1691a8",
   "metadata": {
    "execution": {
     "iopub.execute_input": "2025-07-29T21:28:42.037443Z",
     "iopub.status.busy": "2025-07-29T21:28:42.037198Z",
     "iopub.status.idle": "2025-07-29T21:28:42.070997Z",
     "shell.execute_reply": "2025-07-29T21:28:42.070770Z"
    }
   },
   "outputs": [
    {
     "data": {
      "text/html": [
       "<div>\n",
       "<style scoped>\n",
       "    .dataframe tbody tr th:only-of-type {\n",
       "        vertical-align: middle;\n",
       "    }\n",
       "\n",
       "    .dataframe tbody tr th {\n",
       "        vertical-align: top;\n",
       "    }\n",
       "\n",
       "    .dataframe thead th {\n",
       "        text-align: right;\n",
       "    }\n",
       "</style>\n",
       "<table border=\"1\" class=\"dataframe\">\n",
       "  <thead>\n",
       "    <tr style=\"text-align: right;\">\n",
       "      <th></th>\n",
       "      <th>height</th>\n",
       "      <th>width</th>\n",
       "      <th>downsample</th>\n",
       "    </tr>\n",
       "    <tr>\n",
       "      <th>level</th>\n",
       "      <th></th>\n",
       "      <th></th>\n",
       "      <th></th>\n",
       "    </tr>\n",
       "  </thead>\n",
       "  <tbody>\n",
       "    <tr>\n",
       "      <th>0</th>\n",
       "      <td>19958</td>\n",
       "      <td>19919</td>\n",
       "      <td>1.000000</td>\n",
       "    </tr>\n",
       "    <tr>\n",
       "      <th>1</th>\n",
       "      <td>4989</td>\n",
       "      <td>4979</td>\n",
       "      <td>4.000502</td>\n",
       "    </tr>\n",
       "    <tr>\n",
       "      <th>2</th>\n",
       "      <td>2494</td>\n",
       "      <td>2489</td>\n",
       "      <td>8.002609</td>\n",
       "    </tr>\n",
       "  </tbody>\n",
       "</table>\n",
       "</div>"
      ],
      "text/plain": [
       "       height  width  downsample\n",
       "level                           \n",
       "0       19958  19919    1.000000\n",
       "1        4989   4979    4.000502\n",
       "2        2494   2489    8.002609"
      ]
     },
     "execution_count": 4,
     "metadata": {},
     "output_type": "execute_result"
    }
   ],
   "source": [
    "wsi.fetch.pyramids()"
   ]
  },
  {
   "cell_type": "markdown",
   "id": "77671a74",
   "metadata": {},
   "source": [
    "## Step 4: Understanding WSI properties\n",
    "\n",
    "Now let's explore the important properties of our whole slide image. These properties provide essential information about the image's dimensions, resolution, and other characteristics that are crucial for analysis.\n",
    "\n",
    "- **shape**: The dimensions of the full-resolution image in pixels, given as `[width, height]`.\n",
    "- **n_level**: The number of resolution levels available in the image pyramid, including the full resolution.\n",
    "- **level_shape**: A list of the dimensions for each level in the pyramid, starting from the full resolution down to the lowest resolution.\n",
    "- **level_downsample**: The downsample factors for each level compared to the full resolution, indicating how much each level is scaled down.\n",
    "- **mpp** (Microns per Pixel): The physical size of one pixel in micrometers, indicating the scanning resolution.\n",
    "- **magnification**: The optical magnification used during scanning, which helps in understanding the scale of the captured image.\n",
    "- **bounds**: The coordinates of the bounding box that defines the image area on the slide, given as `[x, y, width, height]`.\n",
    "\n",
    "\n",
    ":::{note}\n",
    "The **mpp** and **magnification** are related to each other:\n",
    "\n",
    "- 20X magnification ≈ 0.5 mpp\n",
    "- 40X magnification ≈ 0.25 mpp\n",
    "\n",
    "These values are useful for harmonizing slides scanned at different resolutions.\n",
    ":::"
   ]
  },
  {
   "cell_type": "code",
   "execution_count": 5,
   "id": "df9122ae",
   "metadata": {
    "execution": {
     "iopub.execute_input": "2025-07-29T21:28:42.072193Z",
     "iopub.status.busy": "2025-07-29T21:28:42.072125Z",
     "iopub.status.idle": "2025-07-29T21:28:42.073842Z",
     "shell.execute_reply": "2025-07-29T21:28:42.073656Z"
    }
   },
   "outputs": [
    {
     "data": {
      "text/html": [
       "<h4>Slide Properties</h4><table><tr><th>Field</th><th>Value</th></tr><tr><td>shape</td><td>[19958, 19919]</td></tr><tr><td>n_level</td><td>3</td></tr><tr><td>level_shape</td><td>[[19958, 19919], [4989, 4979], [2494, 2489]]</td></tr><tr><td>level_downsample</td><td>[1.0, 4.000501706284455, 8.002609074152414]</td></tr><tr><td>mpp</td><td>0.4942</td></tr><tr><td>magnification</td><td>20.0</td></tr><tr><td>bounds</td><td>[0, 0, 19919, 19958]</td></tr></table>"
      ],
      "text/plain": [
       "SlideProperties(shape=[19958, 19919], n_level=3, level_shape=[[19958, 19919], [4989, 4979], [2494, 2489]], level_downsample=[1.0, 4.000501706284455, 8.002609074152414], mpp=0.4942, magnification=20.0, bounds=[0, 0, 19919, 19958])"
      ]
     },
     "execution_count": 5,
     "metadata": {},
     "output_type": "execute_result"
    }
   ],
   "source": [
    "wsi.properties"
   ]
  }
 ],
 "metadata": {
  "jupytext": {
   "default_lexer": "ipython3",
   "formats": "ipynb,md:myst"
  },
  "kernelspec": {
   "display_name": "Python 3 (ipykernel)",
   "language": "python",
   "name": "python3"
  },
  "language_info": {
   "codemirror_mode": {
    "name": "ipython",
    "version": 3
   },
   "file_extension": ".py",
   "mimetype": "text/x-python",
   "name": "python",
   "nbconvert_exporter": "python",
   "pygments_lexer": "ipython3",
   "version": "3.12.3"
  },
  "widgets": {
   "application/vnd.jupyter.widget-state+json": {
    "state": {
     "09705d207e2d403e9eaf9c567771f5d7": {
      "model_module": "@jupyter-widgets/controls",
      "model_module_version": "2.0.0",
      "model_name": "HBoxModel",
      "state": {
       "_dom_classes": [],
       "_model_module": "@jupyter-widgets/controls",
       "_model_module_version": "2.0.0",
       "_model_name": "HBoxModel",
       "_view_count": null,
       "_view_module": "@jupyter-widgets/controls",
       "_view_module_version": "2.0.0",
       "_view_name": "HBoxView",
       "box_style": "",
       "children": [
        "IPY_MODEL_515bbc37b22a41b8a65952479adf99f8",
        "IPY_MODEL_65484169b1384fbfac0becc1e74ac3ac",
        "IPY_MODEL_82a08880f3f5414399a512db2cb94a96"
       ],
       "layout": "IPY_MODEL_41d76657498a4e629f7b6c0e1c366c4a",
       "tabbable": null,
       "tooltip": null
      }
     },
     "40ba27a3c30247f8aabde44556625300": {
      "model_module": "@jupyter-widgets/controls",
      "model_module_version": "2.0.0",
      "model_name": "HTMLStyleModel",
      "state": {
       "_model_module": "@jupyter-widgets/controls",
       "_model_module_version": "2.0.0",
       "_model_name": "HTMLStyleModel",
       "_view_count": null,
       "_view_module": "@jupyter-widgets/base",
       "_view_module_version": "2.0.0",
       "_view_name": "StyleView",
       "background": null,
       "description_width": "",
       "font_size": null,
       "text_color": null
      }
     },
     "41d76657498a4e629f7b6c0e1c366c4a": {
      "model_module": "@jupyter-widgets/base",
      "model_module_version": "2.0.0",
      "model_name": "LayoutModel",
      "state": {
       "_model_module": "@jupyter-widgets/base",
       "_model_module_version": "2.0.0",
       "_model_name": "LayoutModel",
       "_view_count": null,
       "_view_module": "@jupyter-widgets/base",
       "_view_module_version": "2.0.0",
       "_view_name": "LayoutView",
       "align_content": null,
       "align_items": null,
       "align_self": null,
       "border_bottom": null,
       "border_left": null,
       "border_right": null,
       "border_top": null,
       "bottom": null,
       "display": null,
       "flex": null,
       "flex_flow": null,
       "grid_area": null,
       "grid_auto_columns": null,
       "grid_auto_flow": null,
       "grid_auto_rows": null,
       "grid_column": null,
       "grid_gap": null,
       "grid_row": null,
       "grid_template_areas": null,
       "grid_template_columns": null,
       "grid_template_rows": null,
       "height": null,
       "justify_content": null,
       "justify_items": null,
       "left": null,
       "margin": null,
       "max_height": null,
       "max_width": null,
       "min_height": null,
       "min_width": null,
       "object_fit": null,
       "object_position": null,
       "order": null,
       "overflow": null,
       "padding": null,
       "right": null,
       "top": null,
       "visibility": null,
       "width": null
      }
     },
     "515bbc37b22a41b8a65952479adf99f8": {
      "model_module": "@jupyter-widgets/controls",
      "model_module_version": "2.0.0",
      "model_name": "HTMLModel",
      "state": {
       "_dom_classes": [],
       "_model_module": "@jupyter-widgets/controls",
       "_model_module_version": "2.0.0",
       "_model_name": "HTMLModel",
       "_view_count": null,
       "_view_module": "@jupyter-widgets/controls",
       "_view_module_version": "2.0.0",
       "_view_name": "HTMLView",
       "description": "",
       "description_allow_html": false,
       "layout": "IPY_MODEL_e4478770f0b9413b92919035b6fb5c58",
       "placeholder": "​",
       "style": "IPY_MODEL_40ba27a3c30247f8aabde44556625300",
       "tabbable": null,
       "tooltip": null,
       "value": "GTEX-1117F-0526.svs: 100%"
      }
     },
     "65484169b1384fbfac0becc1e74ac3ac": {
      "model_module": "@jupyter-widgets/controls",
      "model_module_version": "2.0.0",
      "model_name": "FloatProgressModel",
      "state": {
       "_dom_classes": [],
       "_model_module": "@jupyter-widgets/controls",
       "_model_module_version": "2.0.0",
       "_model_name": "FloatProgressModel",
       "_view_count": null,
       "_view_module": "@jupyter-widgets/controls",
       "_view_module_version": "2.0.0",
       "_view_name": "ProgressView",
       "bar_style": "success",
       "description": "",
       "description_allow_html": false,
       "layout": "IPY_MODEL_9b07cde658d346148f81f3fcbf3dc073",
       "max": 37325005.0,
       "min": 0.0,
       "orientation": "horizontal",
       "style": "IPY_MODEL_f4af97c05f724f7d83f8ea30817e34c5",
       "tabbable": null,
       "tooltip": null,
       "value": 37325005.0
      }
     },
     "82a08880f3f5414399a512db2cb94a96": {
      "model_module": "@jupyter-widgets/controls",
      "model_module_version": "2.0.0",
      "model_name": "HTMLModel",
      "state": {
       "_dom_classes": [],
       "_model_module": "@jupyter-widgets/controls",
       "_model_module_version": "2.0.0",
       "_model_name": "HTMLModel",
       "_view_count": null,
       "_view_module": "@jupyter-widgets/controls",
       "_view_module_version": "2.0.0",
       "_view_name": "HTMLView",
       "description": "",
       "description_allow_html": false,
       "layout": "IPY_MODEL_c5ac3058e93143eb87625d97d1cc9e33",
       "placeholder": "​",
       "style": "IPY_MODEL_e3580d0fc57044d59ca6373e792ff2ee",
       "tabbable": null,
       "tooltip": null,
       "value": " 37.3M/37.3M [00:01&lt;00:00, 309kB/s]"
      }
     },
     "9b07cde658d346148f81f3fcbf3dc073": {
      "model_module": "@jupyter-widgets/base",
      "model_module_version": "2.0.0",
      "model_name": "LayoutModel",
      "state": {
       "_model_module": "@jupyter-widgets/base",
       "_model_module_version": "2.0.0",
       "_model_name": "LayoutModel",
       "_view_count": null,
       "_view_module": "@jupyter-widgets/base",
       "_view_module_version": "2.0.0",
       "_view_name": "LayoutView",
       "align_content": null,
       "align_items": null,
       "align_self": null,
       "border_bottom": null,
       "border_left": null,
       "border_right": null,
       "border_top": null,
       "bottom": null,
       "display": null,
       "flex": null,
       "flex_flow": null,
       "grid_area": null,
       "grid_auto_columns": null,
       "grid_auto_flow": null,
       "grid_auto_rows": null,
       "grid_column": null,
       "grid_gap": null,
       "grid_row": null,
       "grid_template_areas": null,
       "grid_template_columns": null,
       "grid_template_rows": null,
       "height": null,
       "justify_content": null,
       "justify_items": null,
       "left": null,
       "margin": null,
       "max_height": null,
       "max_width": null,
       "min_height": null,
       "min_width": null,
       "object_fit": null,
       "object_position": null,
       "order": null,
       "overflow": null,
       "padding": null,
       "right": null,
       "top": null,
       "visibility": null,
       "width": null
      }
     },
     "c5ac3058e93143eb87625d97d1cc9e33": {
      "model_module": "@jupyter-widgets/base",
      "model_module_version": "2.0.0",
      "model_name": "LayoutModel",
      "state": {
       "_model_module": "@jupyter-widgets/base",
       "_model_module_version": "2.0.0",
       "_model_name": "LayoutModel",
       "_view_count": null,
       "_view_module": "@jupyter-widgets/base",
       "_view_module_version": "2.0.0",
       "_view_name": "LayoutView",
       "align_content": null,
       "align_items": null,
       "align_self": null,
       "border_bottom": null,
       "border_left": null,
       "border_right": null,
       "border_top": null,
       "bottom": null,
       "display": null,
       "flex": null,
       "flex_flow": null,
       "grid_area": null,
       "grid_auto_columns": null,
       "grid_auto_flow": null,
       "grid_auto_rows": null,
       "grid_column": null,
       "grid_gap": null,
       "grid_row": null,
       "grid_template_areas": null,
       "grid_template_columns": null,
       "grid_template_rows": null,
       "height": null,
       "justify_content": null,
       "justify_items": null,
       "left": null,
       "margin": null,
       "max_height": null,
       "max_width": null,
       "min_height": null,
       "min_width": null,
       "object_fit": null,
       "object_position": null,
       "order": null,
       "overflow": null,
       "padding": null,
       "right": null,
       "top": null,
       "visibility": null,
       "width": null
      }
     },
     "e3580d0fc57044d59ca6373e792ff2ee": {
      "model_module": "@jupyter-widgets/controls",
      "model_module_version": "2.0.0",
      "model_name": "HTMLStyleModel",
      "state": {
       "_model_module": "@jupyter-widgets/controls",
       "_model_module_version": "2.0.0",
       "_model_name": "HTMLStyleModel",
       "_view_count": null,
       "_view_module": "@jupyter-widgets/base",
       "_view_module_version": "2.0.0",
       "_view_name": "StyleView",
       "background": null,
       "description_width": "",
       "font_size": null,
       "text_color": null
      }
     },
     "e4478770f0b9413b92919035b6fb5c58": {
      "model_module": "@jupyter-widgets/base",
      "model_module_version": "2.0.0",
      "model_name": "LayoutModel",
      "state": {
       "_model_module": "@jupyter-widgets/base",
       "_model_module_version": "2.0.0",
       "_model_name": "LayoutModel",
       "_view_count": null,
       "_view_module": "@jupyter-widgets/base",
       "_view_module_version": "2.0.0",
       "_view_name": "LayoutView",
       "align_content": null,
       "align_items": null,
       "align_self": null,
       "border_bottom": null,
       "border_left": null,
       "border_right": null,
       "border_top": null,
       "bottom": null,
       "display": null,
       "flex": null,
       "flex_flow": null,
       "grid_area": null,
       "grid_auto_columns": null,
       "grid_auto_flow": null,
       "grid_auto_rows": null,
       "grid_column": null,
       "grid_gap": null,
       "grid_row": null,
       "grid_template_areas": null,
       "grid_template_columns": null,
       "grid_template_rows": null,
       "height": null,
       "justify_content": null,
       "justify_items": null,
       "left": null,
       "margin": null,
       "max_height": null,
       "max_width": null,
       "min_height": null,
       "min_width": null,
       "object_fit": null,
       "object_position": null,
       "order": null,
       "overflow": null,
       "padding": null,
       "right": null,
       "top": null,
       "visibility": null,
       "width": null
      }
     },
     "f4af97c05f724f7d83f8ea30817e34c5": {
      "model_module": "@jupyter-widgets/controls",
      "model_module_version": "2.0.0",
      "model_name": "ProgressStyleModel",
      "state": {
       "_model_module": "@jupyter-widgets/controls",
       "_model_module_version": "2.0.0",
       "_model_name": "ProgressStyleModel",
       "_view_count": null,
       "_view_module": "@jupyter-widgets/base",
       "_view_module_version": "2.0.0",
       "_view_name": "StyleView",
       "bar_color": null,
       "description_width": ""
      }
     }
    },
    "version_major": 2,
    "version_minor": 0
   }
  }
 },
 "nbformat": 4,
 "nbformat_minor": 5
}
